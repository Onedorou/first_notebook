{
 "cells": [
  {
   "cell_type": "markdown",
   "id": "19495a57-4b0f-4f7f-aea0-da6aeb67ac99",
   "metadata": {},
   "source": [
    "# Data Science tools and Ecosystem"
   ]
  },
  {
   "cell_type": "markdown",
   "id": "edc21654-a697-467d-90c5-192c004c420d",
   "metadata": {},
   "source": [
    "In this notebook, Data Science Tools and Ecosystem are summarized."
   ]
  },
  {
   "cell_type": "markdown",
   "id": "2fbe25c0-a8f8-425c-ba11-5c5db8be4cd8",
   "metadata": {},
   "source": [
    "__Objectives:__\n",
    "* List some popular languages used by Data Scientists\n",
    "* Provide commonly used libraries for Data Science\n",
    "* Show data science tools \n",
    "* Write some examples\n"
   ]
  },
  {
   "cell_type": "markdown",
   "id": "c3faf3e5-4c09-492a-b340-dcbf06f11ea9",
   "metadata": {},
   "source": [
    "## Author\n",
    "Streletskii Artem"
   ]
  },
  {
   "cell_type": "markdown",
   "id": "0e42ae5f-a517-4066-9071-fee8d7d572ff",
   "metadata": {},
   "source": [
    "Some of the popular languages that Data Scientists use are:\n",
    "1. Python\n",
    "2. R\n",
    "3. Java\n",
    "4. Julia\n",
    "5. SQL"
   ]
  },
  {
   "cell_type": "markdown",
   "id": "13e82d68-6b67-4a6b-8bbc-762fc0dafd16",
   "metadata": {},
   "source": [
    "Some of the commonly used libraries used by Data Scientists include:\n",
    "1. Pandas\n",
    "2. Matplotlib\n",
    "3. NumPy\n",
    "4. Seaborn"
   ]
  },
  {
   "cell_type": "markdown",
   "id": "aa0929b4-9d98-4a5d-8906-01c4413e2773",
   "metadata": {},
   "source": [
    "|Data Science Tools |\n",
    "|-------------------|\n",
    "|RStudio|\n",
    "|Jupyter|\n",
    "|Excel|\n",
    "|VisualStudio|"
   ]
  },
  {
   "cell_type": "markdown",
   "id": "52f0c4ef-b82b-44fd-8a5b-2c6c60198391",
   "metadata": {},
   "source": [
    "### Below are a few examples of evaluating arithmetic expressions in Python"
   ]
  },
  {
   "cell_type": "code",
   "execution_count": 1,
   "id": "c4821c25-bd10-4626-b3d0-9c6b8dbfde7f",
   "metadata": {},
   "outputs": [
    {
     "data": {
      "text/plain": [
       "17"
      ]
     },
     "execution_count": 1,
     "metadata": {},
     "output_type": "execute_result"
    }
   ],
   "source": [
    "(3*4)+5\n",
    "# This a simple arithmetic expression to multiply then add integers"
   ]
  },
  {
   "cell_type": "code",
   "execution_count": 2,
   "id": "ba782df5-c125-425b-99a7-54d390137a32",
   "metadata": {},
   "outputs": [
    {
     "name": "stdout",
     "output_type": "stream",
     "text": [
      "3.3333333333333335\n"
     ]
    }
   ],
   "source": [
    "minutes = 200\n",
    "hours = 200/60\n",
    "print(hours)\n",
    "# This will convert 200 minutes to hours by dividing by 60"
   ]
  },
  {
   "cell_type": "code",
   "execution_count": null,
   "id": "c4650523-44ac-4941-bd36-4d87ee244d61",
   "metadata": {},
   "outputs": [],
   "source": []
  }
 ],
 "metadata": {
  "kernelspec": {
   "display_name": "Python 3 (ipykernel)",
   "language": "python",
   "name": "python3"
  },
  "language_info": {
   "codemirror_mode": {
    "name": "ipython",
    "version": 3
   },
   "file_extension": ".py",
   "mimetype": "text/x-python",
   "name": "python",
   "nbconvert_exporter": "python",
   "pygments_lexer": "ipython3",
   "version": "3.11.7"
  }
 },
 "nbformat": 4,
 "nbformat_minor": 5
}
